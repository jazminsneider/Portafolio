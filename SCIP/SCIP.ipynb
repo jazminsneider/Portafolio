{
 "cells": [
  {
   "cell_type": "code",
   "execution_count": 1,
   "metadata": {},
   "outputs": [],
   "source": [
    "import time\n",
    "from ortools.linear_solver import pywraplp\n",
    "import pandas as pd\n",
    "\n",
    "# Crear el sportar olver\n",
    "solver = pywraplp.Solver.CreateSolver('SCIP')\n",
    "if not solver:\n",
    "    print(\"El solver no está disponible.\")\n",
    "    exit()"
   ]
  },
  {
   "cell_type": "markdown",
   "metadata": {},
   "source": [
    "# Ejercicio 1"
   ]
  },
  {
   "cell_type": "markdown",
   "metadata": {},
   "source": [
    "# 1. Procesamiento de los datos"
   ]
  },
  {
   "cell_type": "markdown",
   "metadata": {},
   "source": [
    "Leemos los archivos de ejemplo y nos guardamos sus datos en listas o matrices para luego utilizarlas en el modelo."
   ]
  },
  {
   "cell_type": "code",
   "execution_count": 2,
   "metadata": {},
   "outputs": [],
   "source": [
    "#Primero nos vamos a guardar las demandas.\n",
    "# Inicializamos la lista donde se guardarán los valores de la segunda columna\n",
    "demandas = {}\n",
    "# Abrimos el archivo.txt en modo lectura\n",
    "with open('oficinas.txt', 'r') as archivo:\n",
    "    for iterador, linea in enumerate(archivo):  # iterador comenzará desde 0\n",
    "        columnas = linea.split()\n",
    "        demandas[iterador] = int(columnas[1])\n",
    "\n",
    "# Leemos el archivo de distancias con pandas, asumiendo que está separado por tabulaciones (por defecto en read_csv)\n",
    "distancias = pd.read_csv('distancias.txt', header=None, delimiter='\\t')\n",
    "# Eliminamos la última columna de la matriz de distancias\n",
    "distancias = distancias.drop(distancias.columns[-1], axis=1)\n"
   ]
  },
  {
   "cell_type": "markdown",
   "metadata": {},
   "source": [
    "# 2. Creación del modelo"
   ]
  },
  {
   "cell_type": "markdown",
   "metadata": {},
   "source": [
    "creamos las variables donde\n",
    "\n",
    "C: Son las centrales del modelo\n",
    "\n",
    "O: Son las oficinas del modelo\n",
    "\n",
    "d: Es una matriz con las distancias (en metros) de cada oficina a cada central\n",
    "\n",
    "D: Demandas de las oficinas"
   ]
  },
  {
   "cell_type": "code",
   "execution_count": 3,
   "metadata": {},
   "outputs": [],
   "source": [
    "d = distancias\n",
    "O = range(len(demandas))\n",
    "C = range(distancias.shape[1])\n",
    "\n",
    "# Creamos las variables binarias"
   ]
  },
  {
   "cell_type": "markdown",
   "metadata": {},
   "source": [
    "### Variables Binarias del Modelo\n",
    "Para nuestro modelo, definimos las siguientes variables binarias:\n",
    "\n",
    "$x_{ij} =\n",
    "\\begin{cases} \n",
    "1 & \\text{si la oficina } i \\text{ está atendida por la central } j \\\\\n",
    "0 & \\text{en caso contrario.}\n",
    "\\end{cases}\n",
    "$\n",
    "\n",
    "\n",
    "$\n",
    "y_{j} =\n",
    "\\begin{cases}\n",
    "1 & \\text{si la central } j \\text{ está activada} \\\\\n",
    "0 & \\text{en caso contrario.}\n",
    "\\end{cases}\n",
    "$\n",
    "\n",
    "$d_{ij}$: Distancia (en metros) entre la oficina $i$ y la central $j$.\n",
    "\n",
    "$D$\n",
    "\n",
    "$i \\in O,  j \\in C$\n"
   ]
  },
  {
   "cell_type": "code",
   "execution_count": 4,
   "metadata": {},
   "outputs": [
    {
     "name": "stdout",
     "output_type": "stream",
     "text": [
      "{0: y[0], 1: y[1], 2: y[2], 3: y[3], 4: y[4], 5: y[5], 6: y[6], 7: y[7], 8: y[8], 9: y[9]}\n",
      "{(0, 0): x[0,0], (0, 1): x[0,1], (0, 2): x[0,2], (0, 3): x[0,3], (0, 4): x[0,4], (0, 5): x[0,5], (0, 6): x[0,6], (0, 7): x[0,7], (0, 8): x[0,8], (0, 9): x[0,9], (1, 0): x[1,0], (1, 1): x[1,1], (1, 2): x[1,2], (1, 3): x[1,3], (1, 4): x[1,4], (1, 5): x[1,5], (1, 6): x[1,6], (1, 7): x[1,7], (1, 8): x[1,8], (1, 9): x[1,9], (2, 0): x[2,0], (2, 1): x[2,1], (2, 2): x[2,2], (2, 3): x[2,3], (2, 4): x[2,4], (2, 5): x[2,5], (2, 6): x[2,6], (2, 7): x[2,7], (2, 8): x[2,8], (2, 9): x[2,9], (3, 0): x[3,0], (3, 1): x[3,1], (3, 2): x[3,2], (3, 3): x[3,3], (3, 4): x[3,4], (3, 5): x[3,5], (3, 6): x[3,6], (3, 7): x[3,7], (3, 8): x[3,8], (3, 9): x[3,9], (4, 0): x[4,0], (4, 1): x[4,1], (4, 2): x[4,2], (4, 3): x[4,3], (4, 4): x[4,4], (4, 5): x[4,5], (4, 6): x[4,6], (4, 7): x[4,7], (4, 8): x[4,8], (4, 9): x[4,9], (5, 0): x[5,0], (5, 1): x[5,1], (5, 2): x[5,2], (5, 3): x[5,3], (5, 4): x[5,4], (5, 5): x[5,5], (5, 6): x[5,6], (5, 7): x[5,7], (5, 8): x[5,8], (5, 9): x[5,9], (6, 0): x[6,0], (6, 1): x[6,1], (6, 2): x[6,2], (6, 3): x[6,3], (6, 4): x[6,4], (6, 5): x[6,5], (6, 6): x[6,6], (6, 7): x[6,7], (6, 8): x[6,8], (6, 9): x[6,9], (7, 0): x[7,0], (7, 1): x[7,1], (7, 2): x[7,2], (7, 3): x[7,3], (7, 4): x[7,4], (7, 5): x[7,5], (7, 6): x[7,6], (7, 7): x[7,7], (7, 8): x[7,8], (7, 9): x[7,9], (8, 0): x[8,0], (8, 1): x[8,1], (8, 2): x[8,2], (8, 3): x[8,3], (8, 4): x[8,4], (8, 5): x[8,5], (8, 6): x[8,6], (8, 7): x[8,7], (8, 8): x[8,8], (8, 9): x[8,9], (9, 0): x[9,0], (9, 1): x[9,1], (9, 2): x[9,2], (9, 3): x[9,3], (9, 4): x[9,4], (9, 5): x[9,5], (9, 6): x[9,6], (9, 7): x[9,7], (9, 8): x[9,8], (9, 9): x[9,9], (10, 0): x[10,0], (10, 1): x[10,1], (10, 2): x[10,2], (10, 3): x[10,3], (10, 4): x[10,4], (10, 5): x[10,5], (10, 6): x[10,6], (10, 7): x[10,7], (10, 8): x[10,8], (10, 9): x[10,9], (11, 0): x[11,0], (11, 1): x[11,1], (11, 2): x[11,2], (11, 3): x[11,3], (11, 4): x[11,4], (11, 5): x[11,5], (11, 6): x[11,6], (11, 7): x[11,7], (11, 8): x[11,8], (11, 9): x[11,9], (12, 0): x[12,0], (12, 1): x[12,1], (12, 2): x[12,2], (12, 3): x[12,3], (12, 4): x[12,4], (12, 5): x[12,5], (12, 6): x[12,6], (12, 7): x[12,7], (12, 8): x[12,8], (12, 9): x[12,9], (13, 0): x[13,0], (13, 1): x[13,1], (13, 2): x[13,2], (13, 3): x[13,3], (13, 4): x[13,4], (13, 5): x[13,5], (13, 6): x[13,6], (13, 7): x[13,7], (13, 8): x[13,8], (13, 9): x[13,9], (14, 0): x[14,0], (14, 1): x[14,1], (14, 2): x[14,2], (14, 3): x[14,3], (14, 4): x[14,4], (14, 5): x[14,5], (14, 6): x[14,6], (14, 7): x[14,7], (14, 8): x[14,8], (14, 9): x[14,9], (15, 0): x[15,0], (15, 1): x[15,1], (15, 2): x[15,2], (15, 3): x[15,3], (15, 4): x[15,4], (15, 5): x[15,5], (15, 6): x[15,6], (15, 7): x[15,7], (15, 8): x[15,8], (15, 9): x[15,9], (16, 0): x[16,0], (16, 1): x[16,1], (16, 2): x[16,2], (16, 3): x[16,3], (16, 4): x[16,4], (16, 5): x[16,5], (16, 6): x[16,6], (16, 7): x[16,7], (16, 8): x[16,8], (16, 9): x[16,9], (17, 0): x[17,0], (17, 1): x[17,1], (17, 2): x[17,2], (17, 3): x[17,3], (17, 4): x[17,4], (17, 5): x[17,5], (17, 6): x[17,6], (17, 7): x[17,7], (17, 8): x[17,8], (17, 9): x[17,9], (18, 0): x[18,0], (18, 1): x[18,1], (18, 2): x[18,2], (18, 3): x[18,3], (18, 4): x[18,4], (18, 5): x[18,5], (18, 6): x[18,6], (18, 7): x[18,7], (18, 8): x[18,8], (18, 9): x[18,9], (19, 0): x[19,0], (19, 1): x[19,1], (19, 2): x[19,2], (19, 3): x[19,3], (19, 4): x[19,4], (19, 5): x[19,5], (19, 6): x[19,6], (19, 7): x[19,7], (19, 8): x[19,8], (19, 9): x[19,9], (20, 0): x[20,0], (20, 1): x[20,1], (20, 2): x[20,2], (20, 3): x[20,3], (20, 4): x[20,4], (20, 5): x[20,5], (20, 6): x[20,6], (20, 7): x[20,7], (20, 8): x[20,8], (20, 9): x[20,9], (21, 0): x[21,0], (21, 1): x[21,1], (21, 2): x[21,2], (21, 3): x[21,3], (21, 4): x[21,4], (21, 5): x[21,5], (21, 6): x[21,6], (21, 7): x[21,7], (21, 8): x[21,8], (21, 9): x[21,9], (22, 0): x[22,0], (22, 1): x[22,1], (22, 2): x[22,2], (22, 3): x[22,3], (22, 4): x[22,4], (22, 5): x[22,5], (22, 6): x[22,6], (22, 7): x[22,7], (22, 8): x[22,8], (22, 9): x[22,9], (23, 0): x[23,0], (23, 1): x[23,1], (23, 2): x[23,2], (23, 3): x[23,3], (23, 4): x[23,4], (23, 5): x[23,5], (23, 6): x[23,6], (23, 7): x[23,7], (23, 8): x[23,8], (23, 9): x[23,9], (24, 0): x[24,0], (24, 1): x[24,1], (24, 2): x[24,2], (24, 3): x[24,3], (24, 4): x[24,4], (24, 5): x[24,5], (24, 6): x[24,6], (24, 7): x[24,7], (24, 8): x[24,8], (24, 9): x[24,9], (25, 0): x[25,0], (25, 1): x[25,1], (25, 2): x[25,2], (25, 3): x[25,3], (25, 4): x[25,4], (25, 5): x[25,5], (25, 6): x[25,6], (25, 7): x[25,7], (25, 8): x[25,8], (25, 9): x[25,9], (26, 0): x[26,0], (26, 1): x[26,1], (26, 2): x[26,2], (26, 3): x[26,3], (26, 4): x[26,4], (26, 5): x[26,5], (26, 6): x[26,6], (26, 7): x[26,7], (26, 8): x[26,8], (26, 9): x[26,9], (27, 0): x[27,0], (27, 1): x[27,1], (27, 2): x[27,2], (27, 3): x[27,3], (27, 4): x[27,4], (27, 5): x[27,5], (27, 6): x[27,6], (27, 7): x[27,7], (27, 8): x[27,8], (27, 9): x[27,9], (28, 0): x[28,0], (28, 1): x[28,1], (28, 2): x[28,2], (28, 3): x[28,3], (28, 4): x[28,4], (28, 5): x[28,5], (28, 6): x[28,6], (28, 7): x[28,7], (28, 8): x[28,8], (28, 9): x[28,9], (29, 0): x[29,0], (29, 1): x[29,1], (29, 2): x[29,2], (29, 3): x[29,3], (29, 4): x[29,4], (29, 5): x[29,5], (29, 6): x[29,6], (29, 7): x[29,7], (29, 8): x[29,8], (29, 9): x[29,9], (30, 0): x[30,0], (30, 1): x[30,1], (30, 2): x[30,2], (30, 3): x[30,3], (30, 4): x[30,4], (30, 5): x[30,5], (30, 6): x[30,6], (30, 7): x[30,7], (30, 8): x[30,8], (30, 9): x[30,9], (31, 0): x[31,0], (31, 1): x[31,1], (31, 2): x[31,2], (31, 3): x[31,3], (31, 4): x[31,4], (31, 5): x[31,5], (31, 6): x[31,6], (31, 7): x[31,7], (31, 8): x[31,8], (31, 9): x[31,9], (32, 0): x[32,0], (32, 1): x[32,1], (32, 2): x[32,2], (32, 3): x[32,3], (32, 4): x[32,4], (32, 5): x[32,5], (32, 6): x[32,6], (32, 7): x[32,7], (32, 8): x[32,8], (32, 9): x[32,9], (33, 0): x[33,0], (33, 1): x[33,1], (33, 2): x[33,2], (33, 3): x[33,3], (33, 4): x[33,4], (33, 5): x[33,5], (33, 6): x[33,6], (33, 7): x[33,7], (33, 8): x[33,8], (33, 9): x[33,9], (34, 0): x[34,0], (34, 1): x[34,1], (34, 2): x[34,2], (34, 3): x[34,3], (34, 4): x[34,4], (34, 5): x[34,5], (34, 6): x[34,6], (34, 7): x[34,7], (34, 8): x[34,8], (34, 9): x[34,9], (35, 0): x[35,0], (35, 1): x[35,1], (35, 2): x[35,2], (35, 3): x[35,3], (35, 4): x[35,4], (35, 5): x[35,5], (35, 6): x[35,6], (35, 7): x[35,7], (35, 8): x[35,8], (35, 9): x[35,9], (36, 0): x[36,0], (36, 1): x[36,1], (36, 2): x[36,2], (36, 3): x[36,3], (36, 4): x[36,4], (36, 5): x[36,5], (36, 6): x[36,6], (36, 7): x[36,7], (36, 8): x[36,8], (36, 9): x[36,9], (37, 0): x[37,0], (37, 1): x[37,1], (37, 2): x[37,2], (37, 3): x[37,3], (37, 4): x[37,4], (37, 5): x[37,5], (37, 6): x[37,6], (37, 7): x[37,7], (37, 8): x[37,8], (37, 9): x[37,9], (38, 0): x[38,0], (38, 1): x[38,1], (38, 2): x[38,2], (38, 3): x[38,3], (38, 4): x[38,4], (38, 5): x[38,5], (38, 6): x[38,6], (38, 7): x[38,7], (38, 8): x[38,8], (38, 9): x[38,9], (39, 0): x[39,0], (39, 1): x[39,1], (39, 2): x[39,2], (39, 3): x[39,3], (39, 4): x[39,4], (39, 5): x[39,5], (39, 6): x[39,6], (39, 7): x[39,7], (39, 8): x[39,8], (39, 9): x[39,9], (40, 0): x[40,0], (40, 1): x[40,1], (40, 2): x[40,2], (40, 3): x[40,3], (40, 4): x[40,4], (40, 5): x[40,5], (40, 6): x[40,6], (40, 7): x[40,7], (40, 8): x[40,8], (40, 9): x[40,9], (41, 0): x[41,0], (41, 1): x[41,1], (41, 2): x[41,2], (41, 3): x[41,3], (41, 4): x[41,4], (41, 5): x[41,5], (41, 6): x[41,6], (41, 7): x[41,7], (41, 8): x[41,8], (41, 9): x[41,9], (42, 0): x[42,0], (42, 1): x[42,1], (42, 2): x[42,2], (42, 3): x[42,3], (42, 4): x[42,4], (42, 5): x[42,5], (42, 6): x[42,6], (42, 7): x[42,7], (42, 8): x[42,8], (42, 9): x[42,9], (43, 0): x[43,0], (43, 1): x[43,1], (43, 2): x[43,2], (43, 3): x[43,3], (43, 4): x[43,4], (43, 5): x[43,5], (43, 6): x[43,6], (43, 7): x[43,7], (43, 8): x[43,8], (43, 9): x[43,9], (44, 0): x[44,0], (44, 1): x[44,1], (44, 2): x[44,2], (44, 3): x[44,3], (44, 4): x[44,4], (44, 5): x[44,5], (44, 6): x[44,6], (44, 7): x[44,7], (44, 8): x[44,8], (44, 9): x[44,9], (45, 0): x[45,0], (45, 1): x[45,1], (45, 2): x[45,2], (45, 3): x[45,3], (45, 4): x[45,4], (45, 5): x[45,5], (45, 6): x[45,6], (45, 7): x[45,7], (45, 8): x[45,8], (45, 9): x[45,9], (46, 0): x[46,0], (46, 1): x[46,1], (46, 2): x[46,2], (46, 3): x[46,3], (46, 4): x[46,4], (46, 5): x[46,5], (46, 6): x[46,6], (46, 7): x[46,7], (46, 8): x[46,8], (46, 9): x[46,9], (47, 0): x[47,0], (47, 1): x[47,1], (47, 2): x[47,2], (47, 3): x[47,3], (47, 4): x[47,4], (47, 5): x[47,5], (47, 6): x[47,6], (47, 7): x[47,7], (47, 8): x[47,8], (47, 9): x[47,9], (48, 0): x[48,0], (48, 1): x[48,1], (48, 2): x[48,2], (48, 3): x[48,3], (48, 4): x[48,4], (48, 5): x[48,5], (48, 6): x[48,6], (48, 7): x[48,7], (48, 8): x[48,8], (48, 9): x[48,9], (49, 0): x[49,0], (49, 1): x[49,1], (49, 2): x[49,2], (49, 3): x[49,3], (49, 4): x[49,4], (49, 5): x[49,5], (49, 6): x[49,6], (49, 7): x[49,7], (49, 8): x[49,8], (49, 9): x[49,9], (50, 0): x[50,0], (50, 1): x[50,1], (50, 2): x[50,2], (50, 3): x[50,3], (50, 4): x[50,4], (50, 5): x[50,5], (50, 6): x[50,6], (50, 7): x[50,7], (50, 8): x[50,8], (50, 9): x[50,9], (51, 0): x[51,0], (51, 1): x[51,1], (51, 2): x[51,2], (51, 3): x[51,3], (51, 4): x[51,4], (51, 5): x[51,5], (51, 6): x[51,6], (51, 7): x[51,7], (51, 8): x[51,8], (51, 9): x[51,9], (52, 0): x[52,0], (52, 1): x[52,1], (52, 2): x[52,2], (52, 3): x[52,3], (52, 4): x[52,4], (52, 5): x[52,5], (52, 6): x[52,6], (52, 7): x[52,7], (52, 8): x[52,8], (52, 9): x[52,9], (53, 0): x[53,0], (53, 1): x[53,1], (53, 2): x[53,2], (53, 3): x[53,3], (53, 4): x[53,4], (53, 5): x[53,5], (53, 6): x[53,6], (53, 7): x[53,7], (53, 8): x[53,8], (53, 9): x[53,9], (54, 0): x[54,0], (54, 1): x[54,1], (54, 2): x[54,2], (54, 3): x[54,3], (54, 4): x[54,4], (54, 5): x[54,5], (54, 6): x[54,6], (54, 7): x[54,7], (54, 8): x[54,8], (54, 9): x[54,9], (55, 0): x[55,0], (55, 1): x[55,1], (55, 2): x[55,2], (55, 3): x[55,3], (55, 4): x[55,4], (55, 5): x[55,5], (55, 6): x[55,6], (55, 7): x[55,7], (55, 8): x[55,8], (55, 9): x[55,9]}\n"
     ]
    }
   ],
   "source": [
    "# Variables de decisión\n",
    "# X[i][j] = 1 si la oficina i está atendida por la central j\n",
    "x = {}\n",
    "x = {(i, j): solver.BoolVar(f'x[{i},{j}]') for i in O for j in C}\n",
    "# Y[j] = 1 si la central j está activada, 0 si no\n",
    "y = {j: solver.BoolVar(f'y[{j}]') for j in C}\n",
    "print(y)\n",
    "print(x)"
   ]
  },
  {
   "cell_type": "markdown",
   "metadata": {},
   "source": [
    "\\begin{aligned}\n",
    "\\text{\\Large Creamos nuestra función objetivo:}\n",
    "\\end{aligned}\n",
    "\n",
    "\\begin{aligned}\n",
    "\\text{Min} \\sum_{i \\in O} \\sum_{j \\in C} 0.017 \\, d_{ij} \\, x_{ij} + \\sum_{j \\in C} 5700 \\, y_j\n",
    "\\end{aligned} "
   ]
  },
  {
   "cell_type": "code",
   "execution_count": 5,
   "metadata": {},
   "outputs": [],
   "source": [
    "coste_activacion = 5700  # Costo de activación de cada central\n",
    "coste_distancia = 17/1000  # Costo por metro de distancia\n",
    "capacidad_maxima_central = 15000  # Capacidad máxima de cada central\n",
    "# Función objetivo: minimizar costos\n",
    "# Costo total = Activación de las centrales + Costo por distancia\n",
    "objetivo = solver.Objective()\n",
    "for i in O:\n",
    "    for j in C:\n",
    "        # Costo de activar la central y el costo de distancia entre la oficina i y la central j\n",
    "        objetivo.SetCoefficient(x[(i, j)], coste_distancia * d[j][i])  # distancias[i][j]\n",
    "        \n",
    "for j in C:\n",
    "    # Costo de activar la central\n",
    "    objetivo.SetCoefficient(y[j], coste_activacion)\n",
    "\n",
    "objetivo.SetMinimization()\n"
   ]
  },
  {
   "cell_type": "markdown",
   "metadata": {},
   "source": [
    "### Planteamos las restricciones de nuestro modelo"
   ]
  },
  {
   "cell_type": "markdown",
   "metadata": {},
   "source": [
    "\\begin{aligned}\n",
    "\\text{Restricción 1: Cada oficina debe ser atendida por exactamente una central}\n",
    "\\end{aligned}\n",
    "\n",
    "\\begin{aligned}\n",
    "\\sum_{j \\in C} x_{ij} &= 1 \\quad \\forall i \\in O\n",
    "\\end{aligned}"
   ]
  },
  {
   "cell_type": "code",
   "execution_count": 6,
   "metadata": {},
   "outputs": [],
   "source": [
    "for i in O:\n",
    "    solver.Add(solver.Sum(x[(i, j)] for j in C) == 1)"
   ]
  },
  {
   "cell_type": "markdown",
   "metadata": {},
   "source": [
    "\\begin{aligned}\n",
    "\\text{Restricción 2: Una central no puede atender más de su capacidad máxima}\n",
    "\\end{aligned}\n",
    "\n",
    "\\begin{aligned}\n",
    "\\sum_{i \\in O} x_{ij} D_{i} &\\leq 15000 \\quad \\forall j \\in C\n",
    "\\end{aligned}"
   ]
  },
  {
   "cell_type": "code",
   "execution_count": 7,
   "metadata": {},
   "outputs": [],
   "source": [
    "# Restricción de capacidad de las centrales: una central no puede atender más de su capacidad máxima\n",
    "for j in C:\n",
    "    solver.Add(solver.Sum(x[(i, j)] * demandas[i] for i in O) <= capacidad_maxima_central)"
   ]
  },
  {
   "cell_type": "markdown",
   "metadata": {},
   "source": [
    "\\begin{aligned}\n",
    "\\text{Restricción 3: Si una oficina es atendida por una central, entonces esa central debe estar activada}\n",
    "\\end{aligned}\n",
    "\n",
    "\\begin{aligned}\n",
    "x_{ij} \\leq y_j \\quad \\forall i \\in O, \\, \\forall j \\in C\n",
    "\\end{aligned}"
   ]
  },
  {
   "cell_type": "code",
   "execution_count": 8,
   "metadata": {},
   "outputs": [],
   "source": [
    "# Restricción de que si una oficina es atendida por una central, entonces esa central debe estar activada\n",
    "for i in O:\n",
    "    for j in C:\n",
    "        solver.Add(x[(i, j)] <= y[j])"
   ]
  },
  {
   "cell_type": "markdown",
   "metadata": {},
   "source": [
    "# 3. Resolvemos el modelo"
   ]
  },
  {
   "cell_type": "code",
   "execution_count": 9,
   "metadata": {},
   "outputs": [
    {
     "name": "stdout",
     "output_type": "stream",
     "text": [
      "Valor óptimo de la función objetivo: 34549.843\n",
      "Valores óptimos de las variables de decisión:\n",
      "Central 0 está activada\n",
      "Central 1 está activada\n",
      "Central 2 está activada\n",
      "Central 4 está activada\n",
      "Central 6 está activada\n",
      "Central 8 está activada\n",
      "Oficina 0 está atendida por la central 1\n",
      "Oficina 1 está atendida por la central 1\n",
      "Oficina 2 está atendida por la central 1\n",
      "Oficina 3 está atendida por la central 6\n",
      "Oficina 4 está atendida por la central 6\n",
      "Oficina 5 está atendida por la central 6\n",
      "Oficina 6 está atendida por la central 6\n",
      "Oficina 7 está atendida por la central 4\n",
      "Oficina 8 está atendida por la central 4\n",
      "Oficina 9 está atendida por la central 2\n",
      "Oficina 10 está atendida por la central 2\n",
      "Oficina 11 está atendida por la central 8\n",
      "Oficina 12 está atendida por la central 8\n",
      "Oficina 13 está atendida por la central 1\n",
      "Oficina 14 está atendida por la central 0\n",
      "Oficina 15 está atendida por la central 1\n",
      "Oficina 16 está atendida por la central 4\n",
      "Oficina 17 está atendida por la central 2\n",
      "Oficina 18 está atendida por la central 2\n",
      "Oficina 19 está atendida por la central 4\n",
      "Oficina 20 está atendida por la central 2\n",
      "Oficina 21 está atendida por la central 8\n",
      "Oficina 22 está atendida por la central 8\n",
      "Oficina 23 está atendida por la central 8\n",
      "Oficina 24 está atendida por la central 8\n",
      "Oficina 25 está atendida por la central 6\n",
      "Oficina 26 está atendida por la central 8\n",
      "Oficina 27 está atendida por la central 6\n",
      "Oficina 28 está atendida por la central 1\n",
      "Oficina 29 está atendida por la central 1\n",
      "Oficina 30 está atendida por la central 2\n",
      "Oficina 31 está atendida por la central 2\n",
      "Oficina 32 está atendida por la central 2\n",
      "Oficina 33 está atendida por la central 4\n",
      "Oficina 34 está atendida por la central 4\n",
      "Oficina 35 está atendida por la central 4\n",
      "Oficina 36 está atendida por la central 4\n",
      "Oficina 37 está atendida por la central 6\n",
      "Oficina 38 está atendida por la central 8\n",
      "Oficina 39 está atendida por la central 4\n",
      "Oficina 40 está atendida por la central 4\n",
      "Oficina 41 está atendida por la central 1\n",
      "Oficina 42 está atendida por la central 1\n",
      "Oficina 43 está atendida por la central 1\n",
      "Oficina 44 está atendida por la central 6\n",
      "Oficina 45 está atendida por la central 0\n",
      "Oficina 46 está atendida por la central 0\n",
      "Oficina 47 está atendida por la central 0\n",
      "Oficina 48 está atendida por la central 0\n",
      "Oficina 49 está atendida por la central 0\n",
      "Oficina 50 está atendida por la central 0\n",
      "Oficina 51 está atendida por la central 0\n",
      "Oficina 52 está atendida por la central 0\n",
      "Oficina 53 está atendida por la central 0\n",
      "Oficina 54 está atendida por la central 6\n",
      "Oficina 55 está atendida por la central 6\n",
      "\n",
      "Cantidad de oficinas atendidas por cada central:\n",
      "Central 0: 10 oficinas\n",
      "Central 1: 10 oficinas\n",
      "Central 2: 8 oficinas\n",
      "Central 3: 0 oficinas\n",
      "Central 4: 10 oficinas\n",
      "Central 5: 0 oficinas\n",
      "Central 6: 10 oficinas\n",
      "Central 7: 0 oficinas\n",
      "Central 8: 8 oficinas\n",
      "Central 9: 0 oficinas\n"
     ]
    }
   ],
   "source": [
    "# Resolver el modelo\n",
    "status = solver.Solve()\n",
    "\n",
    "# Imprimir resultados\n",
    "if status == pywraplp.Solver.OPTIMAL:\n",
    "    print(\"Valor óptimo de la función objetivo:\", solver.Objective().Value())\n",
    "    print(\"Valores óptimos de las variables de decisión:\")\n",
    "    \n",
    "    # Diccionario para almacenar cuántas oficinas atiende cada central\n",
    "    oficinas_por_central = {j: 0 for j in C}\n",
    "\n",
    "    for j in C:\n",
    "        if y[j].solution_value() == 1:\n",
    "            print(f\"Central {j} está activada\")\n",
    "    \n",
    "    for i in O:\n",
    "        for j in C:\n",
    "            if x[(i, j)].solution_value() == 1:\n",
    "                print(f\"Oficina {i} está atendida por la central {j}\")\n",
    "                oficinas_por_central[j] += 1  # Incrementar el contador para la central correspondiente\n",
    "\n",
    "    # Mostrar el total de oficinas atendidas por cada central\n",
    "    print(\"\\nCantidad de oficinas atendidas por cada central:\")\n",
    "    for j in C:\n",
    "        print(f\"Central {j}: {oficinas_por_central[j]} oficinas\")\n",
    "else:\n",
    "    print(\"No se encontró una solución óptima.\")\n"
   ]
  },
  {
   "cell_type": "markdown",
   "metadata": {},
   "source": [
    "# Ejercicio 2: Añadir nuevas restricciones"
   ]
  },
  {
   "cell_type": "markdown",
   "metadata": {},
   "source": [
    "\\begin{aligned}\n",
    "\\text{Restricción nueva: cada central operativa no puede atender a mas de 10 oficinas}\n",
    "\\end{aligned}\n",
    "\n",
    "\\begin{aligned}\n",
    "\\sum_{i \\in O} x_{ij} &\\leq 10 \\quad \\forall j \\in C\n",
    "\\end{aligned}"
   ]
  },
  {
   "cell_type": "code",
   "execution_count": 12,
   "metadata": {},
   "outputs": [],
   "source": [
    "# Restricción de maxima cantidad de clientes por central\n",
    "for j in C:\n",
    "    solver.Add(solver.Sum(x[(i, j)] for i in O) <= 10)"
   ]
  },
  {
   "cell_type": "code",
   "execution_count": 13,
   "metadata": {},
   "outputs": [
    {
     "name": "stdout",
     "output_type": "stream",
     "text": [
      "Valor óptimo de la función objetivo: 34549.843\n",
      "Valores óptimos de las variables de decisión:\n",
      "Central 0 está activada\n",
      "Central 1 está activada\n",
      "Central 2 está activada\n",
      "Central 4 está activada\n",
      "Central 6 está activada\n",
      "Central 8 está activada\n",
      "Oficina 0 está atendida por la central 1\n",
      "Oficina 1 está atendida por la central 1\n",
      "Oficina 2 está atendida por la central 1\n",
      "Oficina 3 está atendida por la central 6\n",
      "Oficina 4 está atendida por la central 6\n",
      "Oficina 5 está atendida por la central 6\n",
      "Oficina 6 está atendida por la central 6\n",
      "Oficina 7 está atendida por la central 4\n",
      "Oficina 8 está atendida por la central 4\n",
      "Oficina 9 está atendida por la central 2\n",
      "Oficina 10 está atendida por la central 2\n",
      "Oficina 11 está atendida por la central 8\n",
      "Oficina 12 está atendida por la central 8\n",
      "Oficina 13 está atendida por la central 1\n",
      "Oficina 14 está atendida por la central 0\n",
      "Oficina 15 está atendida por la central 1\n",
      "Oficina 16 está atendida por la central 4\n",
      "Oficina 17 está atendida por la central 2\n",
      "Oficina 18 está atendida por la central 2\n",
      "Oficina 19 está atendida por la central 4\n",
      "Oficina 20 está atendida por la central 2\n",
      "Oficina 21 está atendida por la central 8\n",
      "Oficina 22 está atendida por la central 8\n",
      "Oficina 23 está atendida por la central 8\n",
      "Oficina 24 está atendida por la central 8\n",
      "Oficina 25 está atendida por la central 6\n",
      "Oficina 26 está atendida por la central 8\n",
      "Oficina 27 está atendida por la central 6\n",
      "Oficina 28 está atendida por la central 1\n",
      "Oficina 29 está atendida por la central 1\n",
      "Oficina 30 está atendida por la central 2\n",
      "Oficina 31 está atendida por la central 2\n",
      "Oficina 32 está atendida por la central 2\n",
      "Oficina 33 está atendida por la central 4\n",
      "Oficina 34 está atendida por la central 4\n",
      "Oficina 35 está atendida por la central 4\n",
      "Oficina 36 está atendida por la central 4\n",
      "Oficina 37 está atendida por la central 6\n",
      "Oficina 38 está atendida por la central 8\n",
      "Oficina 39 está atendida por la central 4\n",
      "Oficina 40 está atendida por la central 4\n",
      "Oficina 41 está atendida por la central 1\n",
      "Oficina 42 está atendida por la central 1\n",
      "Oficina 43 está atendida por la central 1\n",
      "Oficina 44 está atendida por la central 6\n",
      "Oficina 45 está atendida por la central 0\n",
      "Oficina 46 está atendida por la central 0\n",
      "Oficina 47 está atendida por la central 0\n",
      "Oficina 48 está atendida por la central 0\n",
      "Oficina 49 está atendida por la central 0\n",
      "Oficina 50 está atendida por la central 0\n",
      "Oficina 51 está atendida por la central 0\n",
      "Oficina 52 está atendida por la central 0\n",
      "Oficina 53 está atendida por la central 0\n",
      "Oficina 54 está atendida por la central 6\n",
      "Oficina 55 está atendida por la central 6\n",
      "\n",
      "Cantidad de oficinas atendidas por cada central:\n",
      "Central 0: 10 oficinas\n",
      "Central 1: 10 oficinas\n",
      "Central 2: 8 oficinas\n",
      "Central 3: 0 oficinas\n",
      "Central 4: 10 oficinas\n",
      "Central 5: 0 oficinas\n",
      "Central 6: 10 oficinas\n",
      "Central 7: 0 oficinas\n",
      "Central 8: 8 oficinas\n",
      "Central 9: 0 oficinas\n"
     ]
    }
   ],
   "source": [
    "# Resolver el modelo\n",
    "status = solver.Solve()\n",
    "\n",
    "# Imprimir resultados\n",
    "if status == pywraplp.Solver.OPTIMAL:\n",
    "    print(\"Valor óptimo de la función objetivo:\", solver.Objective().Value())\n",
    "    print(\"Valores óptimos de las variables de decisión:\")\n",
    "    \n",
    "    # Diccionario para almacenar cuántas oficinas atiende cada central\n",
    "    oficinas_por_central = {j: 0 for j in C}\n",
    "\n",
    "    for j in C:\n",
    "        if y[j].solution_value() == 1:\n",
    "            print(f\"Central {j} está activada\")\n",
    "    \n",
    "    for i in O:\n",
    "        for j in C:\n",
    "            if x[(i, j)].solution_value() == 1:\n",
    "                print(f\"Oficina {i} está atendida por la central {j}\")\n",
    "                oficinas_por_central[j] += 1  # Incrementar el contador para la central correspondiente\n",
    "\n",
    "    # Mostrar el total de oficinas atendidas por cada central\n",
    "    print(\"\\nCantidad de oficinas atendidas por cada central:\")\n",
    "    for j in C:\n",
    "        print(f\"Central {j}: {oficinas_por_central[j]} oficinas\")\n",
    "else:\n",
    "    print(\"No se encontró una solución óptima.\")\n"
   ]
  },
  {
   "cell_type": "markdown",
   "metadata": {},
   "source": [
    "# Ejercicio 3\n"
   ]
  },
  {
   "cell_type": "markdown",
   "metadata": {},
   "source": [
    "Para este ejercicio decidimos plantear otro modelo. \n",
    "La idea es minimizar la capacidad de cada central tal que el modelo original siga teniendo una solución factible"
   ]
  },
  {
   "cell_type": "code",
   "execution_count": 14,
   "metadata": {},
   "outputs": [],
   "source": [
    "from ortools.linear_solver import pywraplp\n",
    "import pandas as pd\n",
    "\n",
    "# Crear el sportar olver\n",
    "solver2 = pywraplp.Solver.CreateSolver('SCIP')\n",
    "if not solver2:\n",
    "    print(\"El solver no está disponible.\")\n",
    "    exit()"
   ]
  },
  {
   "cell_type": "markdown",
   "metadata": {},
   "source": [
    " ### Variables Binarias del Modelo\n",
    "Para nuestro modelo, definimos las siguientes variables binarias:\n",
    "\n",
    "$x_{ij} =\n",
    "\\begin{cases} \n",
    "1 & \\text{si la oficina } i \\text{ está atendida por la central } j \\\\\n",
    "0 & \\text{en caso contrario.}\n",
    "\\end{cases}\n",
    "$\n",
    "\n",
    "\n",
    "$\n",
    "y_{j} =\n",
    "\\begin{cases}\n",
    "1 & \\text{si la central } j \\text{ está activada} \\\\\n",
    "0 & \\text{en caso contrario.}\n",
    "\\end{cases}\n",
    "$\n",
    "\n",
    "\n",
    "$i \\in O,  j \\in C$\n"
   ]
  },
  {
   "cell_type": "code",
   "execution_count": 15,
   "metadata": {},
   "outputs": [],
   "source": [
    "# Variables de decisión\n",
    "# X[i][j] = 1 si la oficina i está atendida por la central j\n",
    "x = {}\n",
    "x = {(i, j): solver2.BoolVar(f'x[{i},{j}]') for i in O for j in C}\n",
    "# Y[j] = 1 si la central j está activada, 0 si no\n",
    "y = {j: solver2.BoolVar(f'y[{j}]') for j in C}\n"
   ]
  },
  {
   "cell_type": "markdown",
   "metadata": {},
   "source": [
    "Capacidad es un número entero que tiene que ser minimizado, entonces planteamos: "
   ]
  },
  {
   "cell_type": "markdown",
   "metadata": {},
   "source": [
    "\\begin{aligned}\n",
    "\\text{\\Large Función objetivo de minimización de la capacidad:}\n",
    "\\end{aligned}\n",
    "\n",
    "\\begin{aligned}\n",
    "\\text{Min}\\quad capacidad\n",
    "\\end{aligned} "
   ]
  },
  {
   "cell_type": "code",
   "execution_count": 16,
   "metadata": {},
   "outputs": [],
   "source": [
    "# Crear la variable de decisión (entera)\n",
    "capacidad = solver2.IntVar(0, solver2.infinity(), 'x')  # x >= 0, sin límite superior\n",
    "\n",
    "# Definir la función objetivo: minimizar x\n",
    "solver2.Minimize(capacidad)"
   ]
  },
  {
   "cell_type": "markdown",
   "metadata": {},
   "source": [
    "\\begin{aligned}\n",
    "\\text{Restricción 1: Cada oficina debe ser atendida por exactamente una central}\n",
    "\\end{aligned}\n",
    "\n",
    "\\begin{aligned}\n",
    "\\sum_{j \\in C} x_{ij} &= 1 \\quad \\forall i \\in O\n",
    "\\end{aligned}"
   ]
  },
  {
   "cell_type": "code",
   "execution_count": 17,
   "metadata": {},
   "outputs": [],
   "source": [
    "for i in O:\n",
    "    solver2.Add(solver2.Sum(x[(i, j)] for j in C) == 1)"
   ]
  },
  {
   "cell_type": "markdown",
   "metadata": {},
   "source": [
    "\\begin{aligned}\n",
    "\\text{Restricción 2: Una central no puede atender más de su capacidad máxima}\n",
    "\\end{aligned}\n",
    "\n",
    "\\begin{aligned}\n",
    "\\sum_{i \\in O} x_{ij} D_{i} &\\leq capacidad \\quad \\forall j \\in C\n",
    "\\end{aligned}"
   ]
  },
  {
   "cell_type": "code",
   "execution_count": 18,
   "metadata": {},
   "outputs": [],
   "source": [
    "# Restricción de capacidad de las centrales: una central no puede atender más de su capacidad máxima\n",
    "for j in C:\n",
    "    solver2.Add(solver2.Sum(x[(i, j)] * demandas[i] for i in O) <= capacidad)"
   ]
  },
  {
   "cell_type": "markdown",
   "metadata": {},
   "source": [
    "\\begin{aligned}\n",
    "\\text{Restricción 3: Si una oficina es atendida por una central, entonces esa central debe estar activada}\n",
    "\\end{aligned}\n",
    "\n",
    "\\begin{aligned}\n",
    "x_{ij} \\leq y_j \\quad \\forall i \\in O, \\, \\forall j \\in C\n",
    "\\end{aligned}"
   ]
  },
  {
   "cell_type": "code",
   "execution_count": 19,
   "metadata": {},
   "outputs": [],
   "source": [
    "# Restricción de que si una oficina es atendida por una central, entonces esa central debe estar activada\n",
    "for i in O:\n",
    "    for j in C:\n",
    "        solver2.Add(x[(i, j)] <= y[j])"
   ]
  },
  {
   "cell_type": "markdown",
   "metadata": {},
   "source": [
    "Finalmente resolvemos el modelo"
   ]
  },
  {
   "cell_type": "code",
   "execution_count": 20,
   "metadata": {},
   "outputs": [
    {
     "name": "stdout",
     "output_type": "stream",
     "text": [
      "Valor óptimo de la función objetivo: 8800.0\n"
     ]
    }
   ],
   "source": [
    "# Resolver el modelo\n",
    "status = solver2.Solve()\n",
    "\n",
    "# Imprimir resultados\n",
    "if status == pywraplp.Solver.OPTIMAL:\n",
    "    capacidad_maxima_central = solver2.Objective().Value()\n",
    "    print(\"Valor óptimo de la función objetivo:\", capacidad_maxima_central)\n",
    "\n",
    "else:\n",
    "    print(\"No se encontró una solución óptima.\")\n"
   ]
  },
  {
   "cell_type": "markdown",
   "metadata": {},
   "source": [
    "# Ejercicio 4"
   ]
  },
  {
   "cell_type": "markdown",
   "metadata": {},
   "source": [
    "Primero generamos aleatoriamente los 7 archivos que vamos a testear"
   ]
  },
  {
   "cell_type": "code",
   "execution_count": 7,
   "metadata": {},
   "outputs": [
    {
     "name": "stdout",
     "output_type": "stream",
     "text": [
      "Valores de oficinas generados: [50, 100, 50, 150, 150, 75, 50]\n",
      "Valores de centrales generados: [10, 10, 25, 18, 18, 13, 22]\n",
      "Archivo generado: txts_ejercicio4/distancias_oficinas_50_centrales_10_0.txt\n",
      "Archivo de demandas generado: txts_ejercicio4/oficinas_demanda_50_0.txt\n",
      "Archivo generado: txts_ejercicio4/distancias_oficinas_100_centrales_10_1.txt\n",
      "Archivo de demandas generado: txts_ejercicio4/oficinas_demanda_100_1.txt\n",
      "Archivo generado: txts_ejercicio4/distancias_oficinas_50_centrales_25_2.txt\n",
      "Archivo de demandas generado: txts_ejercicio4/oficinas_demanda_50_2.txt\n",
      "Archivo generado: txts_ejercicio4/distancias_oficinas_150_centrales_18_3.txt\n",
      "Archivo de demandas generado: txts_ejercicio4/oficinas_demanda_150_3.txt\n",
      "Archivo generado: txts_ejercicio4/distancias_oficinas_150_centrales_18_4.txt\n",
      "Archivo de demandas generado: txts_ejercicio4/oficinas_demanda_150_4.txt\n",
      "Archivo generado: txts_ejercicio4/distancias_oficinas_75_centrales_13_5.txt\n",
      "Archivo de demandas generado: txts_ejercicio4/oficinas_demanda_75_5.txt\n",
      "Archivo generado: txts_ejercicio4/distancias_oficinas_50_centrales_22_6.txt\n",
      "Archivo de demandas generado: txts_ejercicio4/oficinas_demanda_50_6.txt\n"
     ]
    }
   ],
   "source": [
    "import numpy as np\n",
    "import os\n",
    "\n",
    "# Asegúrate de que la carpeta existe o créala si no existe\n",
    "output_folder = \"txts_ejercicio4\"\n",
    "os.makedirs(output_folder, exist_ok=True)\n",
    "\n",
    "# Generar valores aleatorios para la cantidad de oficinas y centrales\n",
    "oficinas_random = [50, 100, 50, 150, 150, 75, 50]\n",
    "centrales_random = [10, 10, 25, 18, 18, 13, 22]\n",
    "\n",
    "print(\"Valores de oficinas generados:\", oficinas_random)\n",
    "print(\"Valores de centrales generados:\", centrales_random)\n",
    "\n",
    "# Función para generar distancias aleatorias\n",
    "def generar_matriz_distancias(num_oficinas, num_centrales, rango_distancias=(200, 4000)):\n",
    "    # Generar matriz de distancias aleatorias\n",
    "    return np.random.randint(rango_distancias[0], rango_distancias[1], size=(num_oficinas, num_centrales))\n",
    "\n",
    "# Generar y guardar los 7 archivos\n",
    "for i in range(7):\n",
    "    num_oficinas = oficinas_random[i]  # Cantidad de oficinas para este archivo\n",
    "    num_centrales = centrales_random[i]  # Cantidad de centrales para este archivo\n",
    "    \n",
    "    # Generar matriz de distancias\n",
    "    matriz_distancias = generar_matriz_distancias(num_oficinas, num_centrales)\n",
    "    \n",
    "    # Generar columna de demandas aleatorias para las oficinas\n",
    "    demandas = np.random.randint(200, 3000, size=num_oficinas).reshape(-1, 1)  \n",
    "    \n",
    "    # Concatenar la columna de demandas a la matriz de distancias\n",
    "    matriz_final = np.hstack([matriz_distancias, demandas])  # Añadir la columna de demandas\n",
    "    \n",
    "    # Guardar en un archivo de distancias y demandas en la carpeta\n",
    "    filename = os.path.join(output_folder, f'distancias_oficinas_{num_oficinas}_centrales_{num_centrales}_{i}.txt')\n",
    "    np.savetxt(filename, matriz_final, fmt='%d', delimiter='\\t')\n",
    "    print(f'Archivo generado: {filename}')\n",
    "    \n",
    "    # Crear archivo de oficinas con solo el número de oficina y la demanda\n",
    "    oficinas_demanda = np.column_stack((np.arange(1, num_oficinas + 1), demandas.flatten()))\n",
    "    oficinas_filename = os.path.join(output_folder, f'oficinas_demanda_{num_oficinas}_{i}.txt')\n",
    "    np.savetxt(oficinas_filename, oficinas_demanda, fmt='%d\\t%d', delimiter='\\t')\n",
    "    print(f'Archivo de demandas generado: {oficinas_filename}')\n"
   ]
  },
  {
   "cell_type": "code",
   "execution_count": 2,
   "metadata": {},
   "outputs": [],
   "source": [
    "import pandas as pd\n",
    "import os\n",
    "import time\n",
    "from ortools.linear_solver import pywraplp\n",
    "import pandas as pd\n",
    "\n",
    "def leer_archivo(oficinas, distancias):\n",
    "    demandas = {}\n",
    "    # Cambiamos el directorio de trabajo si es necesario\n",
    "    carpeta = 'txts_ejercicio4'  # Asegúrate de tener la ruta correcta\n",
    "    ruta_oficinas = os.path.join(carpeta, oficinas)  # Crear la ruta completa al archivo de oficinas\n",
    "    ruta_distancias = os.path.join(carpeta, distancias)  # Crear la ruta completa al archivo de distancias\n",
    "    \n",
    "    # Abrimos el archivo de oficinas en modo lectura\n",
    "    with open(ruta_oficinas, 'r') as archivo:\n",
    "        for iterador, linea in enumerate(archivo):  # iterador comenzará desde 0\n",
    "            columnas = linea.split()\n",
    "            demandas[iterador] = int(columnas[1])\n",
    "\n",
    "    # Leemos el archivo de distancias con pandas, asumiendo que está separado por tabulaciones\n",
    "    distancias_df = pd.read_csv(ruta_distancias, header=None, delimiter='\\t')\n",
    "    \n",
    "    # Eliminamos la última columna de la matriz de distancias\n",
    "    distancias_df = distancias_df.drop(distancias_df.columns[-1], axis=1)\n",
    "    \n",
    "    return distancias_df, demandas\n",
    "\n",
    "# Ejemplo de cómo usar la función"
   ]
  },
  {
   "cell_type": "code",
   "execution_count": 4,
   "metadata": {},
   "outputs": [],
   "source": [
    "from ortools.linear_solver import pywraplp\n",
    "import numpy as np\n",
    "\n",
    "coste_activacion = 5700  # Costo de activación de cada central\n",
    "coste_distancia = 17 / 1000  # Costo por metro de distancia\n",
    "capacidad_maxima_central = 15000  # Capacidad máxima de cada central\n",
    "\n",
    "def modelo(C, O, d, demandas):\n",
    "    # Crear un nuevo solver cada vez que resuelvas el modelo\n",
    "    solver = pywraplp.Solver.CreateSolver('SCIP')\n",
    "    if not solver:\n",
    "        print(\"No se pudo crear el solver.\")\n",
    "        return\n",
    "    \n",
    "    # X[i][j] = 1 si la oficina i está atendida por la central j\n",
    "    x = {(i, j): solver.BoolVar(f'x[{i},{j}]') for i in O for j in C}\n",
    "    \n",
    "    # Y[j] = 1 si la central j está activada, 0 si no\n",
    "    y = {j: solver.BoolVar(f'y[{j}]') for j in C}\n",
    "    \n",
    "    # Crear el objetivo del solver\n",
    "    objetivo = solver.Objective()\n",
    "\n",
    "    # Planteamos la función objetivo\n",
    "    for i in O:\n",
    "        for j in C:\n",
    "            # Costo de activar la central y el costo de distancia entre la oficina i y la central j\n",
    "            objetivo.SetCoefficient(x[(i, j)], coste_distancia * d[j][i])  # distancias[i][j]\n",
    "    \n",
    "    for j in C:\n",
    "        # Costo de activar la central\n",
    "        objetivo.SetCoefficient(y[j], coste_activacion)\n",
    "\n",
    "    objetivo.SetMinimization()\n",
    "\n",
    "    # Planteamos las restricciones del modelo\n",
    "\n",
    "    # Cada oficina debe ser atendida por exactamente una central\n",
    "    for i in O:\n",
    "        solver.Add(solver.Sum(x[(i, j)] for j in C) == 1)\n",
    "    \n",
    "    # Restricción de capacidad de las centrales: una central no puede atender más de su capacidad máxima\n",
    "    for j in C:\n",
    "        solver.Add(solver.Sum(x[(i, j)] * demandas[i] for i in O) <= capacidad_maxima_central)\n",
    "    \n",
    "    # Restricción de que si una oficina es atendida por una central, entonces esa central debe estar activada\n",
    "    for i in O:\n",
    "        for j in C:\n",
    "            solver.Add(x[(i, j)] <= y[j])\n",
    "\n",
    "    # Resolver el modelo\n",
    "    status = solver.Solve()\n",
    "\n",
    "    # Imprimir resultados\n",
    "    if status == pywraplp.Solver.OPTIMAL:\n",
    "        print(\"Valor óptimo de la función objetivo:\", solver.Objective().Value())\n",
    "        print(\"Valores óptimos de las variables de decisión:\")\n",
    "        for j in C:\n",
    "            if y[j].solution_value() == 1:\n",
    "                print(f\"Central {j} está activada\")\n",
    "        \n",
    "        # Crear un diccionario para las centrales y sus oficinas\n",
    "        centrales = {}\n",
    "        for j in C:\n",
    "            centrales[j+1] = []\n",
    "            for i in O:\n",
    "                if x[(i, j)].solution_value() == 1:\n",
    "                    centrales[j+1].append(i+1)\n",
    "        \n",
    "        # Mostrar qué oficinas están siendo atendidas por cada central\n",
    "        for clave in centrales.keys():\n",
    "            if len(centrales[clave]) != 0:\n",
    "                print(f\"La central {clave} atiende a las oficinas {centrales[clave]}\")\n",
    "    else:\n",
    "        print(\"No se encontró una solución óptima.\")\n"
   ]
  },
  {
   "cell_type": "markdown",
   "metadata": {},
   "source": [
    "Ejecutamos el modelo para el archivo con 150 oficinas y 10 centrales "
   ]
  },
  {
   "cell_type": "code",
   "execution_count": 36,
   "metadata": {},
   "outputs": [
    {
     "name": "stdout",
     "output_type": "stream",
     "text": [
      "Modelo con 100 oficinas y 10 centrales\n",
      "Las distancias promedio son:  2136.12\n",
      "Las demandas promedio son:  1611.49\n",
      "No se encontró una solución óptima.\n",
      "El modelo tardó 0.0490 segundos en ejecutarse.\n"
     ]
    }
   ],
   "source": [
    "distancias, demandas = leer_archivo('oficinas_demanda_100_1.txt', 'distancias_oficinas_100_centrales_10_1.txt')\n",
    "d = distancias\n",
    "O = range(len(demandas))\n",
    "C = range(distancias.shape[1])\n",
    "print(\"Modelo con 100 oficinas y 10 centrales\")\n",
    "distancias_promedio_modelo = np.mean(distancias)\n",
    "demandas_promedio = sum(demandas.values()) / len(demandas)\n",
    "print(\"Las distancias promedio son: \", distancias_promedio_modelo)\n",
    "print(\"Las demandas promedio son: \", demandas_promedio)\n",
    "\n",
    "start_time = time.time()\n",
    "modelo(C,O,distancias,demandas)\n",
    "# Medir el tiempo después de ejecutar el modelo\n",
    "end_time = time.time()\n",
    "\n",
    "# Calcular el tiempo que tardó en ejecutarse el modelo\n",
    "execution_time = end_time - start_time\n",
    "# Imprimir el tiempo de ejecución\n",
    "\n",
    "print(f\"El modelo tardó {execution_time:.4f} segundos en ejecutarse.\")\n"
   ]
  },
  {
   "cell_type": "markdown",
   "metadata": {},
   "source": [
    "Ejecutamos el modelo para el archivo con 50 oficinas y 10 centrales "
   ]
  },
  {
   "cell_type": "code",
   "execution_count": 37,
   "metadata": {},
   "outputs": [
    {
     "name": "stdout",
     "output_type": "stream",
     "text": [
      "Modelo con 50 oficinas y 10 centrales\n",
      "Las distancias promedio son:  2095.68\n",
      "Las demandas promedio son:  1562.84\n",
      "Valor óptimo de la función objetivo: 34778.305999999524\n",
      "Valores óptimos de las variables de decisión:\n",
      "Central 0 está activada\n",
      "Central 1 está activada\n",
      "Central 4 está activada\n",
      "Central 6 está activada\n",
      "Central 7 está activada\n",
      "Central 8 está activada\n",
      "La central 1 atiende a las oficinas [12, 15, 27, 29, 34, 38, 42, 44, 48, 50]\n",
      "La central 2 atiende a las oficinas [1, 3, 5, 14, 19, 21, 30, 31, 49]\n",
      "La central 5 atiende a las oficinas [2, 6, 7, 26, 33, 43, 45, 46]\n",
      "La central 7 atiende a las oficinas [4, 8, 10, 16, 17, 18, 25, 28, 37]\n",
      "La central 8 atiende a las oficinas [9, 32, 39, 40, 41, 47]\n",
      "La central 9 atiende a las oficinas [11, 13, 20, 22, 23, 24, 35, 36]\n",
      "El modelo tardó 0.7453 segundos en ejecutarse.\n"
     ]
    }
   ],
   "source": [
    "distancias, demandas = leer_archivo('oficinas_demanda_50_0.txt', 'distancias_oficinas_50_centrales_10_0.txt')\n",
    "d = distancias\n",
    "O = range(len(demandas))\n",
    "C = range(distancias.shape[1])\n",
    "# Medir el tiempo antes de ejecutar el modelo\n",
    "print(\"Modelo con 50 oficinas y 10 centrales\")\n",
    "distancias_promedio_modelo = np.mean(distancias)\n",
    "demandas_promedio = sum(demandas.values()) / len(demandas)\n",
    "print(\"Las distancias promedio son: \", distancias_promedio_modelo)\n",
    "print(\"Las demandas promedio son: \", demandas_promedio)\n",
    "\n",
    "start_time = time.time()\n",
    "modelo(C,O,distancias,demandas)\n",
    "# Medir el tiempo después de ejecutar el modelo\n",
    "end_time = time.time()\n",
    "# Calcular el tiempo que tardó en ejecutarse el modelo\n",
    "execution_time = end_time - start_time\n",
    "# Imprimir el tiempo de ejecución\n",
    "execution_time = execution_time\n",
    "print(f\"El modelo tardó {execution_time:.4f} segundos en ejecutarse.\")\n"
   ]
  },
  {
   "cell_type": "markdown",
   "metadata": {},
   "source": [
    "Ejecutamos el modelo para 75 oficinas y 13 centrales"
   ]
  },
  {
   "cell_type": "code",
   "execution_count": 38,
   "metadata": {},
   "outputs": [
    {
     "name": "stdout",
     "output_type": "stream",
     "text": [
      "Modelo con 75 oficinas y 13 centrales\n",
      "Las distancias promedio son:  2117.2851282051283\n",
      "Las demandas promedio son:  1574.64\n",
      "Valor óptimo de la función objetivo: 46315.785\n",
      "Valores óptimos de las variables de decisión:\n",
      "Central 3 está activada\n",
      "Central 4 está activada\n",
      "Central 5 está activada\n",
      "Central 6 está activada\n",
      "Central 7 está activada\n",
      "Central 10 está activada\n",
      "Central 11 está activada\n",
      "Central 12 está activada\n",
      "La central 4 atiende a las oficinas [8, 12, 13, 21, 38, 44, 51]\n",
      "La central 5 atiende a las oficinas [3, 5, 17, 22, 32, 33, 35, 39, 40, 63, 69]\n",
      "La central 6 atiende a las oficinas [24, 25, 41, 43, 45, 53, 56, 58, 71]\n",
      "La central 7 atiende a las oficinas [4, 16, 19, 27, 30, 46, 55, 62, 64, 65, 74]\n",
      "La central 8 atiende a las oficinas [2, 11, 18, 49, 50, 52, 66, 70, 72]\n",
      "La central 11 atiende a las oficinas [6, 7, 14, 34, 37, 47, 68]\n",
      "La central 12 atiende a las oficinas [20, 23, 29, 31, 54, 57, 59, 61, 67, 75]\n",
      "La central 13 atiende a las oficinas [1, 9, 10, 15, 26, 28, 36, 42, 48, 60, 73]\n",
      "El modelo tardó 15.1125 segundos en ejecutarse.\n"
     ]
    }
   ],
   "source": [
    "\n",
    "distancias, demandas = leer_archivo('oficinas_demanda_75_5.txt', 'distancias_oficinas_75_centrales_13_5.txt')\n",
    "d = distancias\n",
    "O = range(len(demandas))\n",
    "C = range(distancias.shape[1])\n",
    "print(\"Modelo con 75 oficinas y 13 centrales\")\n",
    "distancias_promedio_modelo = np.mean(distancias)\n",
    "demandas_promedio = sum(demandas.values()) / len(demandas)\n",
    "print(\"Las distancias promedio son: \", distancias_promedio_modelo)\n",
    "print(\"Las demandas promedio son: \", demandas_promedio)\n",
    "\n",
    "start_time = time.time()\n",
    "modelo(C,O,distancias,demandas)\n",
    "end_time = time.time()\n",
    "# Calcular el tiempo que tardó en ejecutarse el modelo\n",
    "execution_time = end_time - start_time\n",
    "# Imprimir el tiempo de ejecución\n",
    "execution_time = execution_time\n",
    "print(f\"El modelo tardó {execution_time:.4f} segundos en ejecutarse.\")\n"
   ]
  },
  {
   "cell_type": "markdown",
   "metadata": {},
   "source": [
    "Ejecutamos el modelo para el archivo que tiene 150 oficinas y 18 centrales"
   ]
  },
  {
   "cell_type": "code",
   "execution_count": 34,
   "metadata": {},
   "outputs": [
    {
     "name": "stdout",
     "output_type": "stream",
     "text": [
      "Modelo con 150 oficinas y 18 centrales\n",
      "Las distancias promedio son:  2124.485925925926\n",
      "Las demandas promedio son:  1522.1\n",
      "Valor óptimo de la función objetivo: 92238.7\n",
      "Valores óptimos de las variables de decisión:\n",
      "Central 0 está activada\n",
      "Central 1 está activada\n",
      "Central 2 está activada\n",
      "Central 3 está activada\n",
      "Central 4 está activada\n",
      "Central 5 está activada\n",
      "Central 7 está activada\n",
      "Central 8 está activada\n",
      "Central 10 está activada\n",
      "Central 11 está activada\n",
      "Central 12 está activada\n",
      "Central 13 está activada\n",
      "Central 14 está activada\n",
      "Central 15 está activada\n",
      "Central 16 está activada\n",
      "Central 17 está activada\n",
      "La central 1 atiende a las oficinas [38, 44, 45, 57, 65, 112, 116, 118, 132]\n",
      "La central 2 atiende a las oficinas [3, 31, 36, 77, 98, 102, 131, 134]\n",
      "La central 3 atiende a las oficinas [4, 5, 28, 49, 82, 120, 122, 125, 148]\n",
      "La central 4 atiende a las oficinas [2, 25, 30, 40, 46, 60, 72, 90, 103]\n",
      "La central 5 atiende a las oficinas [8, 10, 22, 23, 88, 101, 104, 115, 127, 142, 149]\n",
      "La central 6 atiende a las oficinas [1, 11, 15, 21, 84, 97, 135, 138, 145]\n",
      "La central 8 atiende a las oficinas [14, 27, 37, 61, 64, 79, 91, 111, 123, 126]\n",
      "La central 9 atiende a las oficinas [48, 50, 69, 71, 74, 92, 93, 94, 99, 119]\n",
      "La central 11 atiende a las oficinas [7, 53, 76, 80, 87, 89, 108, 113, 117, 133, 144]\n",
      "La central 12 atiende a las oficinas [17, 39, 51, 54, 59, 68, 83, 130, 147]\n",
      "La central 13 atiende a las oficinas [16, 34, 35, 52, 73, 96, 140, 141]\n",
      "La central 14 atiende a las oficinas [19, 20, 41, 78, 86, 109, 129, 143]\n",
      "La central 15 atiende a las oficinas [12, 18, 32, 47, 58, 67, 70, 100, 121, 146, 150]\n",
      "La central 16 atiende a las oficinas [6, 9, 13, 24, 26, 56, 62, 105, 107]\n",
      "La central 17 atiende a las oficinas [29, 33, 42, 43, 63, 110, 136, 139]\n",
      "La central 18 atiende a las oficinas [55, 66, 75, 81, 85, 95, 106, 114, 124, 128, 137]\n",
      "El modelo tardó 45.9897 segundos en ejecutarse.\n"
     ]
    }
   ],
   "source": [
    "\n",
    "distancias, demandas = leer_archivo('oficinas_demanda_150_3.txt', 'distancias_oficinas_150_centrales_18_3.txt')\n",
    "d = distancias\n",
    "O = range(len(demandas))\n",
    "C = range(distancias.shape[1])\n",
    "\n",
    "print(\"Modelo con 150 oficinas y 18 centrales\")\n",
    "distancias_promedio_modelo = np.mean(distancias)\n",
    "demandas_promedio = sum(demandas.values()) / len(demandas)\n",
    "print(\"Las distancias promedio son: \", distancias_promedio_modelo)\n",
    "print(\"Las demandas promedio son: \", demandas_promedio)\n",
    "\n",
    "\n",
    "start_time = time.time()\n",
    "modelo(C,O,distancias,demandas)\n",
    "end_time = time.time()\n",
    "# Calcular el tiempo que tardó en ejecutarse el modelo\n",
    "execution_time = end_time - start_time\n",
    "# Imprimir el tiempo de ejecución\n",
    "execution_time = execution_time\n",
    "print(f\"El modelo tardó {execution_time:.4f} segundos en ejecutarse.\")\n"
   ]
  },
  {
   "cell_type": "markdown",
   "metadata": {},
   "source": [
    "Ejecutamos el modelo para el archivo que tiene 150 oficinas y 18 centrales"
   ]
  },
  {
   "cell_type": "code",
   "execution_count": 35,
   "metadata": {},
   "outputs": [
    {
     "name": "stdout",
     "output_type": "stream",
     "text": [
      "Modelo con 150 oficinas y 18 centrales\n",
      "Las distancias promedio son:  2082.495185185185\n",
      "Las demandas promedio son:  1705.0666666666666\n",
      "Valor óptimo de la función objetivo: 103646.724\n",
      "Valores óptimos de las variables de decisión:\n",
      "Central 0 está activada\n",
      "Central 1 está activada\n",
      "Central 2 está activada\n",
      "Central 3 está activada\n",
      "Central 4 está activada\n",
      "Central 5 está activada\n",
      "Central 6 está activada\n",
      "Central 7 está activada\n",
      "Central 8 está activada\n",
      "Central 9 está activada\n",
      "Central 10 está activada\n",
      "Central 11 está activada\n",
      "Central 12 está activada\n",
      "Central 13 está activada\n",
      "Central 14 está activada\n",
      "Central 15 está activada\n",
      "Central 16 está activada\n",
      "Central 17 está activada\n",
      "La central 1 atiende a las oficinas [17, 18, 29, 40, 74, 76, 107]\n",
      "La central 2 atiende a las oficinas [24, 33, 55, 71, 117, 125, 145]\n",
      "La central 3 atiende a las oficinas [63, 66, 81, 83, 104, 105, 131]\n",
      "La central 4 atiende a las oficinas [2, 5, 6, 75, 84, 100, 114, 138, 139]\n",
      "La central 5 atiende a las oficinas [26, 51, 56, 61, 82, 92, 113]\n",
      "La central 6 atiende a las oficinas [3, 4, 13, 15, 45, 60, 94, 101, 109, 121]\n",
      "La central 7 atiende a las oficinas [21, 22, 25, 37, 46, 88, 127]\n",
      "La central 8 atiende a las oficinas [28, 39, 77, 98, 118, 120, 122, 141]\n",
      "La central 9 atiende a las oficinas [16, 20, 48, 62, 79, 86, 116, 126, 128, 130]\n",
      "La central 10 atiende a las oficinas [7, 87, 97, 108, 136, 143, 144, 146]\n",
      "La central 11 atiende a las oficinas [34, 50, 80, 99, 103, 124, 135, 147]\n",
      "La central 12 atiende a las oficinas [58, 59, 68, 78, 85, 90, 91, 95, 111]\n",
      "La central 13 atiende a las oficinas [8, 9, 19, 31, 35, 36, 42, 53, 110, 112]\n",
      "La central 14 atiende a las oficinas [10, 12, 23, 67, 73, 93, 132, 148, 149]\n",
      "La central 15 atiende a las oficinas [11, 27, 32, 43, 44, 72, 102, 133, 142]\n",
      "La central 16 atiende a las oficinas [1, 14, 38, 47, 49, 57, 96, 119]\n",
      "La central 17 atiende a las oficinas [30, 65, 70, 106, 129, 134, 137]\n",
      "La central 18 atiende a las oficinas [41, 52, 54, 64, 69, 89, 115, 123, 140, 150]\n",
      "El modelo tardó 3.7541 segundos en ejecutarse.\n"
     ]
    }
   ],
   "source": [
    "\n",
    "distancias, demandas = leer_archivo('oficinas_demanda_150_4.txt', 'distancias_oficinas_150_centrales_18_4.txt')\n",
    "\n",
    "print(\"Modelo con 150 oficinas y 18 centrales\")\n",
    "distancias_promedio_modelo = np.mean(distancias)\n",
    "demandas_promedio = sum(demandas.values()) / len(demandas)\n",
    "print(\"Las distancias promedio son: \", distancias_promedio_modelo)\n",
    "print(\"Las demandas promedio son: \", demandas_promedio)\n",
    "\n",
    "d = distancias\n",
    "O = range(len(demandas))\n",
    "C = range(distancias.shape[1])\n",
    "\n",
    "start_time = time.time()\n",
    "modelo(C,O,distancias,demandas)\n",
    "end_time = time.time()\n",
    "# Calcular el tiempo que tardó en ejecutarse el modelo\n",
    "execution_time = end_time - start_time\n",
    "# Imprimir el tiempo de ejecución\n",
    "execution_time = execution_time\n",
    "print(f\"El modelo tardó {execution_time:.4f} segundos en ejecutarse.\")\n"
   ]
  },
  {
   "cell_type": "markdown",
   "metadata": {},
   "source": [
    "Ejecutamos el modelo para el archivo con 50 oficinas y 20 centrales"
   ]
  },
  {
   "cell_type": "code",
   "execution_count": 8,
   "metadata": {},
   "outputs": [
    {
     "name": "stdout",
     "output_type": "stream",
     "text": [
      "Las distancias promedio son:  2062.4445454545453\n",
      "Las demandas promedio son:  1575.16\n",
      "Modelo con 50 oficinas y 22 centrales\n",
      "Valor óptimo de la función objetivo: 34654.95399999999\n",
      "Valores óptimos de las variables de decisión:\n",
      "Central 2 está activada\n",
      "Central 9 está activada\n",
      "Central 12 está activada\n",
      "Central 14 está activada\n",
      "Central 17 está activada\n",
      "Central 21 está activada\n",
      "La central 3 atiende a las oficinas [1, 3, 6, 11, 13, 23, 29, 35, 37, 42]\n",
      "La central 10 atiende a las oficinas [2, 4, 14, 17, 31, 32, 40]\n",
      "La central 13 atiende a las oficinas [9, 10, 16, 21, 26, 30, 33, 39, 44]\n",
      "La central 15 atiende a las oficinas [12, 15, 19, 25, 27, 41, 47]\n",
      "La central 18 atiende a las oficinas [5, 18, 20, 28, 34, 38, 43]\n",
      "La central 22 atiende a las oficinas [7, 8, 22, 24, 36, 45, 46, 48, 49, 50]\n",
      "El modelo tardó 6287.9814 segundos en ejecutarse.\n"
     ]
    }
   ],
   "source": [
    "distancias, demandas = leer_archivo('oficinas_demanda_50_6.txt', 'distancias_oficinas_50_centrales_22_6.txt')\n",
    "\n",
    "distancias_promedio_modelo = np.mean(distancias)\n",
    "demandas_promedio = sum(demandas.values()) / len(demandas)\n",
    "print(\"Las distancias promedio son: \", distancias_promedio_modelo)\n",
    "print(\"Las demandas promedio son: \", demandas_promedio)\n",
    "\n",
    "d = distancias\n",
    "O = range(len(demandas))\n",
    "C = range(distancias.shape[1])\n",
    "print(\"Modelo con 50 oficinas y 22 centrales\")\n",
    "start_time = time.time()\n",
    "modelo(C,O,distancias,demandas)\n",
    "end_time = time.time()\n",
    "# Calcular el tiempo que tardó en ejecutarse el modelo\n",
    "execution_time = end_time - start_time\n",
    "# Imprimir el tiempo de ejecución\n",
    "execution_time = execution_time\n",
    "print(f\"El modelo tardó {execution_time:.4f} segundos en ejecutarse.\")\n"
   ]
  },
  {
   "cell_type": "code",
   "execution_count": null,
   "metadata": {},
   "outputs": [
    {
     "name": "stdout",
     "output_type": "stream",
     "text": [
      "Las distancias promedio son:  2080.4696\n",
      "Las demandas promedio son:  1668.28\n",
      "Modelo con 50 oficinas y 25 centrales\n",
      "pressed CTRL-C 1 times (5 times for forcing termination)\n"
     ]
    }
   ],
   "source": [
    "\n",
    "distancias, demandas = leer_archivo('oficinas_demanda_50_2.txt', 'distancias_oficinas_50_centrales_25_2.txt')\n",
    "\n",
    "distancias_promedio_modelo = np.mean(distancias)\n",
    "demandas_promedio = sum(demandas.values()) / len(demandas)\n",
    "print(\"Las distancias promedio son: \", distancias_promedio_modelo)\n",
    "print(\"Las demandas promedio son: \", demandas_promedio)\n",
    "d = distancias\n",
    "O = range(len(demandas))\n",
    "C = range(distancias.shape[1])\n",
    "\n",
    "print(\"Modelo con 50 oficinas y 25 centrales\")\n",
    "start_time = time.time()\n",
    "modelo(C,O,distancias,demandas)\n",
    "end_time = time.time()\n",
    "# Calcular el tiempo que tardó en ejecutarse el modelo\n",
    "execution_time = end_time - start_time\n",
    "# Imprimir el tiempo de ejecución\n",
    "execution_time = execution_time\n",
    "print(f\"El modelo tardó {execution_time:.4f} segundos en ejecutarse.\")\n"
   ]
  }
 ],
 "metadata": {
  "kernelspec": {
   "display_name": "td6",
   "language": "python",
   "name": "python3"
  },
  "language_info": {
   "codemirror_mode": {
    "name": "ipython",
    "version": 3
   },
   "file_extension": ".py",
   "mimetype": "text/x-python",
   "name": "python",
   "nbconvert_exporter": "python",
   "pygments_lexer": "ipython3",
   "version": "3.12.4"
  }
 },
 "nbformat": 4,
 "nbformat_minor": 2
}
